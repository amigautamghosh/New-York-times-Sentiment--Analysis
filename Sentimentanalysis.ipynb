import pandas as pd
import numpy as np

from textblob import TextBlob

import warnings 
warnings.filterwarnings('ignore')

import matplotlib as mpl
import matplotlib.pyplot as plt
import seaborn as sns
from plotly.offline import init_notebook_mode, iplot
import plotly.figure_factory as ff
init_notebook_mode(connected=True)
plt.style.use('fivethirtyeight')
%matplotlib inline

curr_dir = '../input/'
comments = pd.read_csv(curr_dir + 'CommentsApril2018.csv')
articles = pd.read_csv(curr_dir + 'ArticlesApril2018.csv')

def print_largest_values(s, n=5):
    s = sorted(s.unique())
    for v in s[-1:-(n+1):-1]:
        print(v)
    print()
    
def print_smallest_values(s, n=5):
    s = sorted(s.unique())
    for v in s[:n]:
        print(v)
    print()

comments.sample(5)

comments.shape
comments.info()
comments.commentBody.sample()

def preprocess(commentBody):
    commentBody = commentBody.str.replace("(<br/>)", "")
    commentBody = commentBody.str.replace('(<a).*(>).*(</a>)', '')
    commentBody = commentBody.str.replace('(&amp)', '')
    commentBody = commentBody.str.replace('(&gt)', '')
    commentBody = commentBody.str.replace('(&lt)', '')
    commentBody = commentBody.str.replace('(\xa0)', ' ')  
    return commentBody
comments.commentBody = preprocess(comments.commentBody)

comments.commentTitle.value_counts()
comments.drop(['commentTitle', 'recommendedFlag', 'reportAbuseFlag', 'userURL'], axis=1, inplace=True)
describe = comments.describe(include=['O']).transpose()
table = ff.create_table(describe, index=True, index_title='Categorical columns')
iplot(table)

comments.describe().transpose()
comments.isnull().sum()
comments['sentiment'] = comments.commentBody.map(lambda text: TextBlob(text).sentiment.polarity)

print("5 random comments with highest positive sentiment polarity: \n")
cL = comments.loc[comments.sentiment==1, ['commentBody']].sample(5).values
for c in cL:
    print(c[0])
    print()

print("5 random comments with most negative sentiment polarity: \n")
cL = comments.loc[comments.sentiment==-1, ['commentBody']].sample(5).values
for c in cL:
    print(c[0])
    print()

print("5 random comments with most neutral (zero) sentiment polarity:\n ")
cL = comments.loc[comments.sentiment==0, ['commentBody']].sample(5).values
for c in cL:
    print(c[0])
    print()

mpl.rcParams['figure.figsize'] = (18, 8)
mpl.rcParams['axes.titlesize'] = 'xx-large'
mpl.rcParams['axes.labelsize'] = 'x-large'
sns.distplot(comments.sentiment);
plt.title("Distribution of sentiment polarity of comments");

sns.set(rc={'axes.labelsize':25})
grid = sns.jointplot('sentiment', 'recommendations', data=comments)
grid.fig.set_figwidth(18)
grid.fig.set_figheight(18)
grid.fig.subplots_adjust(top=0.95)
grid.fig.suptitle("Joint distribution of sentiment polarity of comments vs number of upvotes on them");


mpl.rcParams['figure.figsize'] = (18, 8)
mpl.rcParams['axes.titlesize'] = 'xx-large'
mpl.rcParams['axes.labelsize'] = 'x-large'
fig, ax = plt.subplots()
sns.distplot(comments.loc[comments.editorsSelection==0, 'sentiment'], ax=ax);
sns.kdeplot(comments.loc[comments.editorsSelection==0, 'sentiment'], ax=ax, label = "NYT's pick");
sns.distplot(comments.loc[comments.editorsSelection==1, 'sentiment'], ax=ax);
sns.kdeplot(comments.loc[comments.editorsSelection==1, 'sentiment'], ax=ax, label = "Not NYT's pick");
plt.title("Distribution of sentiment polarity of comments based on NYT's pick");
ax.legend(loc='upper left');

sns.distplot(comments.recommendations);
plt.title("Distribution of upvotes (recommendations) on comments");

percs = np.linspace(0,100,40)
qn = np.percentile(comments.recommendations, percs)
plt.scatter(percs[:-1], qn[:-1]);
plt.title('Q-Q plot for the distribution of upvotes');
